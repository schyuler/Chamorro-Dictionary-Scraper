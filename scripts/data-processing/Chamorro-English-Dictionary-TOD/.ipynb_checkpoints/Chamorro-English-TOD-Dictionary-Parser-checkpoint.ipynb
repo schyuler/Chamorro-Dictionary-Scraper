{
 "cells": [
  {
   "cell_type": "markdown",
   "id": "22f5f3a1-8821-4bde-9faf-70c41aad349d",
   "metadata": {},
   "source": [
    "# Chamorro-English \"TOD\" Dictionary Parser"
   ]
  },
  {
   "cell_type": "markdown",
   "id": "7807bbe0-8d47-4605-bd73-9358c3dc8392",
   "metadata": {},
   "source": [
    "**About This Notebook**<br>\n",
    "This notebook contains the full processing pipeline for parsing and formatting the contents of Chamorro-English Dictionary text files, from the work of Donald M. Topping, Pedro M. Ogo and Bernadita C. Dungca. This dictionary is known colloquially as the \"TOD\" Dictionary. The text files used in this notebook were accessed through the UH Manoa ScholarSpace digital repository at https://scholarspace.manoa.hawaii.edu/items/1cb6119e-b893-4a30-adae-0d8ed4aaafa2\n",
    "\n",
    "This notebook includes functions for:\n",
    "\n",
    "- Loading `.TXT` files from the TOD Dictionary dataset\n",
    "- Extracting and cleaning the raw text data\n",
    "- Parsing dictionary entries based on labeled fields (e.g., `.hw`, `df`, `il`)\n",
    "- Structuring the data into a nested Python dictionary\n",
    "- Exporting the formatted data to a JSON file for future use\n",
    "\n",
    "The goal of this notebook is to prepare the dictionary data for easier analysis, transformation, or integration into future linguistic, educational, or machine learning projects."
   ]
  },
  {
   "cell_type": "markdown",
   "id": "cbd10c0a-9bb7-486c-b72c-72d89b6c3571",
   "metadata": {},
   "source": [
    "**Name:** Schyuler Lujan <br>\n",
    "**Date Started:** 13-May-2025 <br>\n",
    "**Date Completed:** In Progress"
   ]
  },
  {
   "cell_type": "markdown",
   "id": "6d08560a-179f-44d9-8cc1-f670eb396e5c",
   "metadata": {},
   "source": [
    "# Import Libraries"
   ]
  },
  {
   "cell_type": "code",
   "execution_count": 116,
   "id": "5c3eed7d-1ecd-43ac-8994-27a5b76bfb3c",
   "metadata": {},
   "outputs": [],
   "source": [
    "import os\n",
    "import re\n",
    "import json\n",
    "import csv\n",
    "import pandas as pd"
   ]
  },
  {
   "cell_type": "markdown",
   "id": "3264f640-dc26-4942-8cdc-2a856bcdb869",
   "metadata": {},
   "source": [
    "# Open Dictionary Files"
   ]
  },
  {
   "cell_type": "markdown",
   "id": "07e7d6d3-f5ee-4345-8cfb-71a238733bb0",
   "metadata": {},
   "source": [
    "In this section, we open the 6 text files that contain the contents of the TOD Dictionary and compile them into a single string for later parsing."
   ]
  },
  {
   "cell_type": "code",
   "execution_count": 119,
   "id": "63750e47-35b1-4330-9a16-e5ce0df49143",
   "metadata": {},
   "outputs": [],
   "source": [
    "# Set folder path\n",
    "base_path = \"C:/Users/schyu/Documents/Python-Projects/\"# ABSOLUTE PATH GOES HERE\n",
    "folder_path = base_path + \"Chamorro-Dictionary-Scraper/inputs/Chamorro-English-Dictionary-Files-TOD\""
   ]
  },
  {
   "cell_type": "code",
   "execution_count": 120,
   "id": "60981c49-97c3-463b-86b5-4bc743add328",
   "metadata": {},
   "outputs": [],
   "source": [
    "def open_dictionary_files(path):\n",
    "    \"\"\"\n",
    "    Reads and concatenates the contents of all .TXT dictionary files in the specified directory.\n",
    "\n",
    "    This function scans the given directory for files ending with '.TXT', reads each file's \n",
    "    contents using UTF-8 encoding, and combines them into a single string. It also performs \n",
    "    basic text cleanup, such as removing formatting characters (/ < > % *) and replacing \n",
    "    '$na' with 'ña' to restore proper spelling.\n",
    "\n",
    "    Parameters:\n",
    "    ----------\n",
    "        path (str): The path to the directory containing dictionary text files.\n",
    "\n",
    "    Returns:\n",
    "    ----------\n",
    "        str: A single string containing the cleaned and combined contents of all .TXT files.\n",
    "    \"\"\"\n",
    "    # Initialize string for storing contents\n",
    "    text = \"\"\n",
    "\n",
    "    # Open all the files\n",
    "    for filename in os.listdir(path):\n",
    "        if filename.endswith('.TXT'):\n",
    "            text_path = os.path.join(path, filename)\n",
    "            # Open text file, read contents and append contents to a single string\n",
    "            with open(text_path, 'r', encoding=\"utf-8\") as file:\n",
    "                content = file.read()\n",
    "                text += content\n",
    "\n",
    "    # Cleanup text\n",
    "    text = re.sub(r'[/<>%*]', '', text) # Remove formatting characters\n",
    "    text = text.replace(\"$na\", \"ña\") # Replace $na with ña\n",
    "\n",
    "    return text"
   ]
  },
  {
   "cell_type": "code",
   "execution_count": 121,
   "id": "55fa136d-af02-45d5-865e-0c0103e27c09",
   "metadata": {},
   "outputs": [],
   "source": [
    "# Get dictionary contents into a single string for parsing\n",
    "contents = open_dictionary_files(folder_path)"
   ]
  },
  {
   "cell_type": "markdown",
   "id": "f32ee696-d167-4eff-a4cf-da864ae111ee",
   "metadata": {},
   "source": [
    "# Parse Dictionary Contents"
   ]
  },
  {
   "cell_type": "markdown",
   "id": "ef2a0508-3d04-4fec-9b0a-74f87f1b9467",
   "metadata": {},
   "source": [
    "In this section, we parse the string output from `open_dictionary_files()` and format the contents into a structured Python dictionary for easier analysis in future projects. The dictionary contents follows a predictable structure, based on dictionary labels followed by the contents for each label. The labels and their meanings in the dictionary are below:\n",
    "\n",
    "* **.hw** - headword (term)\n",
    "* **df** - definition\n",
    "* **il** - dxample sentence, formatted as Chamorro sentence |English translation\n",
    "* **wc** - word class; takes values of 1, 2, or 3. Some words have more than one value\n",
    "* **cf** - cross-reference or related term\n",
    "* **zb** - simple gloss\n",
    "\n",
    "**Parsing Approach**<br>\n",
    "The approach involves splitting the string into lines based on dictionary labels (e.g., `.hw`, `df`, `cf`, `il`, etc.), then iterating over those lines to extract and organize the data into key-value pairs.\n",
    "\n",
    "**Splitting the String into Lines**<br>\n",
    "The full dictionary text is split into lines using a regular expression. Regular expressions enable more flexible and powerful text processing—such as matching label prefixes and preserving multi-line entries—compared to basic string methods.\n",
    "\n",
    "**Separating Labels from Contents** <br>\n",
    "Each line is further divided into a label and its associated content. The label (e.g., `df`or `il`) is identified by taking the first token before the first space using `split()`. The content that follows is extracted using `partition()` to capture everything after the label, preserving its full value."
   ]
  },
  {
   "cell_type": "code",
   "execution_count": 124,
   "id": "8010334c-3374-4bd3-876a-833a6d443db0",
   "metadata": {},
   "outputs": [],
   "source": [
    "def parse_dictionary_contents(text):\n",
    "    \"\"\"\n",
    "    Parses the raw dictionary text and organizes it into a structured Python dictionary.\n",
    "\n",
    "    This function processes the cleaned dictionary text, extracting labeled lines \n",
    "    (e.g., .hw for headword, df for definition, il for example sentence, etc.). \n",
    "    It groups all related information under their corresponding headwords and stores \n",
    "    them as nested dictionaries.\n",
    "\n",
    "    Labels with multiple entries (e.g., multiple 'il' lines) are concatenated with semicolons.\n",
    "\n",
    "    Parameters:\n",
    "    ----------\n",
    "        text (str): The full text of the dictionary, typically returned by open_dictionary_files().\n",
    "\n",
    "    Returns:\n",
    "    ----------\n",
    "        dict: A dictionary where each key is a headword (string) and the value is \n",
    "              another dictionary mapping labels (e.g., 'df', 'il') to their corresponding content.\n",
    "    \"\"\"\n",
    "    # Initialize dictionary\n",
    "    dict = {}\n",
    "\n",
    "    # Initialize variable for storing the term\n",
    "    current_word = None\n",
    "\n",
    "    # Split the text based on labels; multiline entries for a label are contained in a single string\n",
    "    lines = re.findall(r'^(?:\\.hw|df|il|cf|wc|zb)\\s+.*(?:\\n(?!\\.hw|df|il|cf|wc|zb).*)*', text, flags=re.MULTILINE)\n",
    "\n",
    "    # Iterate through the lines and append the data to dict\n",
    "    for line in lines:\n",
    "        label = line.split()[0].strip() # Get label (.hw, df, il, etc.)\n",
    "        content = line.partition(\" \")[-1].strip() # Get the contents attached to label\n",
    "        # Create a new dictionary entry for each word\n",
    "        if label == \".hw\":\n",
    "            current_word = content\n",
    "            dict[current_word] = {}\n",
    "        elif label in dict[current_word]:\n",
    "            dict[current_word][label] += f\"; {content}\"\n",
    "        else:\n",
    "            dict[current_word][label] = content\n",
    "\n",
    "    return dict"
   ]
  },
  {
   "cell_type": "code",
   "execution_count": 125,
   "id": "ceb542e7-68ec-423e-91ab-f0852a462c9b",
   "metadata": {},
   "outputs": [],
   "source": [
    "# Parse dictionary contents\n",
    "dictionary = parse_dictionary_contents(contents)"
   ]
  },
  {
   "cell_type": "markdown",
   "id": "f1b8c536-4fc5-42b6-bdaf-87c6f71dfecf",
   "metadata": {},
   "source": [
    "# Parse Example Sentences"
   ]
  },
  {
   "cell_type": "markdown",
   "id": "14ea636b-a2b5-4d33-9cec-cd3379cb67b6",
   "metadata": {},
   "source": [
    "In this section we parse the example sentences from the dictionary and format the contents to be used in the development of a Chamorro corpus and in future language analysis. We take the output from `parse_dictionary_contents`, extract the example sentencess under each word which is labeled with `il` and do text cleanup."
   ]
  },
  {
   "cell_type": "code",
   "execution_count": 128,
   "id": "797ba37e-0bbe-40f9-b2ae-38edd4dc148d",
   "metadata": {},
   "outputs": [],
   "source": [
    "def get_example_sentences(dictionary):\n",
    "    \"\"\"\n",
    "    Parses the formatted dictionary contents, extracts and cleans example sentences, and formats it into a list of tuples,\n",
    "    where each tuple is structured as (Chamorro Sentence, English Translation).\n",
    "    \"\"\"\n",
    "    # Initialize string for extracting examples\n",
    "    examples = \"\"\n",
    "\n",
    "    # Iterate through dictionary and extract sentences\n",
    "    for term, contents in dictionary.items():\n",
    "        if \"il\" in dictionary[term]:\n",
    "            examples += dictionary[term][\"il\"] + \"; \" \n",
    "\n",
    "    # Remove newline tags\n",
    "    examples = examples.replace(\"\\n\", '')\n",
    "\n",
    "    # Split examples into their chamorro-english pairs\n",
    "    examples = examples.split(\";\")\n",
    "\n",
    "    # Separate the Chamorro and English sentences into tuples\n",
    "    example_pairs = [tuple(example.split(\"|\")) for example in examples]\n",
    "        \n",
    "    return example_pairs"
   ]
  },
  {
   "cell_type": "code",
   "execution_count": 129,
   "id": "f1cbc01d-3653-4c05-9216-a8410bb62c04",
   "metadata": {},
   "outputs": [],
   "source": [
    "# Get the example sentences from the dictionary\n",
    "example_sentences = get_example_sentences(dictionary)"
   ]
  },
  {
   "cell_type": "code",
   "execution_count": 130,
   "id": "b4f2360c-9663-4e01-ba21-6080d420cd2b",
   "metadata": {},
   "outputs": [
    {
     "data": {
      "text/plain": [
       "2354"
      ]
     },
     "execution_count": 130,
     "metadata": {},
     "output_type": "execute_result"
    }
   ],
   "source": [
    "# Count the number of elements in each tuple\n",
    "len(example_sentences)"
   ]
  },
  {
   "cell_type": "markdown",
   "id": "503255d1-cd7f-403e-aa81-57723e190a31",
   "metadata": {},
   "source": [
    "# Export Data"
   ]
  },
  {
   "cell_type": "code",
   "execution_count": 132,
   "id": "929f43e1-db7a-44a8-9d34-88b5a1ee5d80",
   "metadata": {},
   "outputs": [],
   "source": [
    "# Set the export folder path\n",
    "exports_folder = \"Chamorro-Dictionary-Scraper/exports/\""
   ]
  },
  {
   "cell_type": "markdown",
   "id": "7823bf76-bbb4-41ea-acfb-b7ecce2d203e",
   "metadata": {},
   "source": [
    "## Export Dictionary to JSON"
   ]
  },
  {
   "cell_type": "code",
   "execution_count": 134,
   "id": "14e2a66d-7e9f-4216-9568-23cfa44405ad",
   "metadata": {},
   "outputs": [],
   "source": [
    "# Convert to regular dictionary before export\n",
    "regular_dict = {key: value for key, value in dictionary.items()}\n",
    "\n",
    "# Set the folder_path and filename for export\n",
    "folder_path = base_path + exports_folder + \"json\"\n",
    "filename = \"chamorro_english_dictionary_TOD.json\"\n",
    "\n",
    "# Set the file_path for the export\n",
    "file_path = os.path.join(folder_path, filename)\n",
    "\n",
    "# Export the data to JSON\n",
    "with open(file_path, mode=\"w\", encoding=\"utf-8\") as file:\n",
    "    json.dump(regular_dict, file, ensure_ascii=False, indent=2)"
   ]
  },
  {
   "cell_type": "markdown",
   "id": "6c1574d4-9c62-4ced-b258-bb1e7cdadda4",
   "metadata": {},
   "source": [
    "## Export Example Sentences to CSV"
   ]
  },
  {
   "cell_type": "code",
   "execution_count": 136,
   "id": "2b54204c-ea30-4cd9-b653-aaf714b42023",
   "metadata": {},
   "outputs": [],
   "source": [
    "# Convert to dataframe before export\n",
    "df_sentences = pd.DataFrame(example_sentences)\n",
    "\n",
    "# TODO Set the folder_path and filename for export\n",
    "folder_path = base_path + exports_folder + \"csv\"\n",
    "filename = \"chamorro_english_dictionary_TOD_sentences.csv\"\n",
    "\n",
    "# TODO Set the file_path for export\n",
    "file_path = os.path.join(folder_path, filename)\n",
    "\n",
    "# TODO Export the data to CSV\n",
    "df_sentences.to_csv(file_path, index=False)"
   ]
  }
 ],
 "metadata": {
  "kernelspec": {
   "display_name": "Python [conda env:base] *",
   "language": "python",
   "name": "conda-base-py"
  },
  "language_info": {
   "codemirror_mode": {
    "name": "ipython",
    "version": 3
   },
   "file_extension": ".py",
   "mimetype": "text/x-python",
   "name": "python",
   "nbconvert_exporter": "python",
   "pygments_lexer": "ipython3",
   "version": "3.11.7"
  }
 },
 "nbformat": 4,
 "nbformat_minor": 5
}
