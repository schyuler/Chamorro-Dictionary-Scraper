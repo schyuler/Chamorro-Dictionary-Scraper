{
 "cells": [
  {
   "cell_type": "markdown",
   "id": "22f5f3a1-8821-4bde-9faf-70c41aad349d",
   "metadata": {},
   "source": [
    "# Chamorro-English Dictionary (TOD) Data Processing"
   ]
  },
  {
   "cell_type": "code",
   "execution_count": 2,
   "id": "a51547fe-d7e4-4bd1-a49b-7e99db1d1868",
   "metadata": {},
   "outputs": [],
   "source": [
    "#TODO write the about this project"
   ]
  },
  {
   "cell_type": "markdown",
   "id": "6d08560a-179f-44d9-8cc1-f670eb396e5c",
   "metadata": {},
   "source": [
    "# Import Libraries"
   ]
  },
  {
   "cell_type": "code",
   "execution_count": 5,
   "id": "5c3eed7d-1ecd-43ac-8994-27a5b76bfb3c",
   "metadata": {},
   "outputs": [],
   "source": [
    "#TODO import libraries"
   ]
  },
  {
   "cell_type": "markdown",
   "id": "3264f640-dc26-4942-8cdc-2a856bcdb869",
   "metadata": {},
   "source": [
    "# Open Dictionary Files"
   ]
  },
  {
   "cell_type": "code",
   "execution_count": 10,
   "id": "63750e47-35b1-4330-9a16-e5ce0df49143",
   "metadata": {},
   "outputs": [],
   "source": [
    "#TODO import text files and combine them"
   ]
  },
  {
   "cell_type": "markdown",
   "id": "7823bf76-bbb4-41ea-acfb-b7ecce2d203e",
   "metadata": {},
   "source": [
    "# Export Single Dictionary File"
   ]
  },
  {
   "cell_type": "code",
   "execution_count": 17,
   "id": "95ff42af-82b9-4fe6-88d7-caa52ee8d019",
   "metadata": {},
   "outputs": [],
   "source": [
    "# TODO export to JSON"
   ]
  },
  {
   "cell_type": "code",
   "execution_count": 19,
   "id": "6cadf390-2cd3-48c9-86b0-6924cb5100d1",
   "metadata": {},
   "outputs": [],
   "source": [
    "# TODO export to csv"
   ]
  },
  {
   "cell_type": "markdown",
   "id": "f1b8c536-4fc5-42b6-bdaf-87c6f71dfecf",
   "metadata": {},
   "source": [
    "# Export Example Sentences"
   ]
  },
  {
   "cell_type": "code",
   "execution_count": 13,
   "id": "797ba37e-0bbe-40f9-b2ae-38edd4dc148d",
   "metadata": {},
   "outputs": [],
   "source": [
    "# TODO get example sentences for corpus development"
   ]
  },
  {
   "cell_type": "code",
   "execution_count": 21,
   "id": "ad161db1-ea60-4a9a-9e68-84c40ad559e6",
   "metadata": {},
   "outputs": [],
   "source": [
    "# TODO export example sentences to csv"
   ]
  },
  {
   "cell_type": "code",
   "execution_count": null,
   "id": "31770513-f44a-406e-90f8-bac5f3422d0b",
   "metadata": {},
   "outputs": [],
   "source": []
  }
 ],
 "metadata": {
  "kernelspec": {
   "display_name": "Python [conda env:base] *",
   "language": "python",
   "name": "conda-base-py"
  },
  "language_info": {
   "codemirror_mode": {
    "name": "ipython",
    "version": 3
   },
   "file_extension": ".py",
   "mimetype": "text/x-python",
   "name": "python",
   "nbconvert_exporter": "python",
   "pygments_lexer": "ipython3",
   "version": "3.11.7"
  }
 },
 "nbformat": 4,
 "nbformat_minor": 5
}
