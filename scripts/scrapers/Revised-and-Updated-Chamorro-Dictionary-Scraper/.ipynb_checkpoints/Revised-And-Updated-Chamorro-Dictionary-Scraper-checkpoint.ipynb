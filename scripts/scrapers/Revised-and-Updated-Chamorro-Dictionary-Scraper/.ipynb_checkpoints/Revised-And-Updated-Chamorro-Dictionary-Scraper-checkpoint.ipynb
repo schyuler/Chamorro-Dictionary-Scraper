{
 "cells": [
  {
   "cell_type": "markdown",
   "id": "fc6b18b8-5d37-4607-8e08-98af81f075d6",
   "metadata": {},
   "source": [
    "# Revised and Updated Chamorro Dictionary Scraper"
   ]
  },
  {
   "cell_type": "markdown",
   "id": "5b86e3dc-5ad3-43d6-8067-ac030c397dd0",
   "metadata": {},
   "source": [
    "**About This Notebook**<br>\n",
    "This notebook contains the full processing pipeline for scraping, parsing, formatting and exporting the contents of the Revised and Updated Chamorro-English Dictionary found at https://natibunmarianas.org/chamorro-dictionary/ which is a project to revise and update the Chamorro-English Dictionary by Topping, Ogo, and Dungca (known as the \"TOD\" Dictionary).\n",
    "\n",
    "This notebook includes functions for:\n",
    "\n",
    "* Scraping the contents from the online dictionary\n",
    "* Parsing and formatting the contents based on html tags\n",
    "* Structuring the data into a nested Python dictionary\n",
    "* Exporting the formatted data to JSON for future use\n",
    "* Exporting the example sentences to CSV for use in a Chamorro corpus\n",
    "\n",
    "The goal of this notebook is to prepare the dictionary data for easier analysis, transformation, or integration into future linguistic, educational, or machine learning projects."
   ]
  },
  {
   "cell_type": "markdown",
   "id": "f3032bcb-aa13-44f2-b4df-d6828c2769de",
   "metadata": {},
   "source": [
    "**Name:** Schyuler Lujan <br>\n",
    "**Date Started:** 14-May-2025 <br>\n",
    "**Date Completed:** In Progress"
   ]
  },
  {
   "cell_type": "markdown",
   "id": "c06940e4-da5d-4e3a-a703-c308054f5ec9",
   "metadata": {},
   "source": [
    "# Import Libraries"
   ]
  },
  {
   "cell_type": "code",
   "execution_count": 24,
   "id": "3e184ed2-84c3-4f94-a2d9-9e966f728a4f",
   "metadata": {},
   "outputs": [],
   "source": [
    "# Import libraries\n",
    "import requests\n",
    "from bs4 import BeautifulSoup\n",
    "import time\n",
    "import json\n",
    "import csv"
   ]
  },
  {
   "cell_type": "code",
   "execution_count": null,
   "id": "04be177a-6db0-42b8-96b9-f0a1df4449d0",
   "metadata": {},
   "outputs": [],
   "source": []
  },
  {
   "cell_type": "markdown",
   "id": "4f656978-0fee-4830-b786-8d595dd8d946",
   "metadata": {},
   "source": [
    "# Scrape, Parse and Extract Dictionary Contents"
   ]
  },
  {
   "cell_type": "markdown",
   "id": "ff5445be-35e0-49d7-8b2c-b8809217dbbd",
   "metadata": {},
   "source": [
    "In this section we will use `BeautifulSoup` to scrape, parse, extract and format the dictionary contents on the website. These are the classes in the HTML structure we will be targeting for scraping:\n",
    "\n",
    "* **Term:** class=\"Lexeme\"\n",
    "* **Part of Speech:** class=\"Partofspeech\"\n",
    "* **Definition:** class=\"DefinitionE\"\n",
    "* **Other Features:** class=\"flabel\" (labels include \"Variant:, Syn:, See:, From:\")\n",
    "\n",
    "There are also example sentences for each term, and they are organized under these tags:\n",
    "\n",
    "* **Chamorro sentence:** class=\"Examplev\"\n",
    "* **English sentence:** class=\"ExamplefreetransE\""
   ]
  },
  {
   "cell_type": "code",
   "execution_count": 99,
   "id": "aaab7c62-bb9d-4a57-96d1-071922dfd45d",
   "metadata": {},
   "outputs": [],
   "source": [
    "def get_dictionary_content(urls):\n",
    "    \"\"\"\n",
    "    Navigates to each dictionary page on the website, parses the HTML and extracts the contents based on the tags and returns results\n",
    "    in a dictionary.\n",
    "    \"\"\"\n",
    "    # TODO Parse the webpages\n",
    "            \n",
    "    return None"
   ]
  },
  {
   "cell_type": "code",
   "execution_count": 89,
   "id": "a148df25-a5d6-47aa-bbe2-851573650b54",
   "metadata": {},
   "outputs": [],
   "source": [
    "## DELETE ME test link for scraping\n",
    "test_link = [\"https://natibunmarianas.org/a-2/\"]"
   ]
  },
  {
   "cell_type": "code",
   "execution_count": 91,
   "id": "a25cfeab-0ba4-40e8-b202-0718bbd8de32",
   "metadata": {},
   "outputs": [],
   "source": [
    "contents = get_dictionary_content(test_link)"
   ]
  },
  {
   "cell_type": "markdown",
   "id": "f7fcd436-4343-4cf3-9cc9-bc28759ccd09",
   "metadata": {},
   "source": [
    "# Extract and Format Example Sentences"
   ]
  },
  {
   "cell_type": "code",
   "execution_count": 101,
   "id": "13f1e24e-d4c7-45d4-992e-8768cd1354a7",
   "metadata": {},
   "outputs": [],
   "source": [
    "def get_example_sentences(dictionary_contents):\n",
    "    \"\"\"\n",
    "    \"\"\"\n",
    "    # TODO Parse the webpages\n",
    "    return None"
   ]
  },
  {
   "cell_type": "markdown",
   "id": "fab6a607-2333-4dec-856b-3f9917096ada",
   "metadata": {},
   "source": [
    "# Export Data"
   ]
  },
  {
   "cell_type": "markdown",
   "id": "533bca72-02d8-49a7-a6a4-ac318d321299",
   "metadata": {},
   "source": [
    "In this section we will export the dictionary contents and example sentences for future analysis and use in other language projects."
   ]
  },
  {
   "cell_type": "markdown",
   "id": "e95876be-bb2c-4a66-9be1-a1611ba21155",
   "metadata": {},
   "source": [
    "## Export Dictionary to JSON"
   ]
  },
  {
   "cell_type": "code",
   "execution_count": 39,
   "id": "2d04a658-bdd1-49af-bc33-32200d9d5ce7",
   "metadata": {},
   "outputs": [],
   "source": [
    "# TODO convert to regular Python dictionary\n",
    "\n",
    "# TODO Set folder path and filename\n",
    "\n",
    "# TODO Set file path for export\n",
    "\n",
    "# TODO Export to JSON"
   ]
  },
  {
   "cell_type": "markdown",
   "id": "82bb013e-ad15-4e6d-85a5-86fbbc1485b0",
   "metadata": {},
   "source": [
    "## Export Example Sentences to CSV"
   ]
  },
  {
   "cell_type": "code",
   "execution_count": 42,
   "id": "680166ce-c34d-4e0b-93cf-309cf9b1e35f",
   "metadata": {},
   "outputs": [],
   "source": [
    "# TODO convert to dataframe\n",
    "\n",
    "# TODO Set folder path and filename\n",
    "\n",
    "# TODO Set file path for export\n",
    "\n",
    "# TODO Export to CSV"
   ]
  }
 ],
 "metadata": {
  "kernelspec": {
   "display_name": "Python [conda env:base] *",
   "language": "python",
   "name": "conda-base-py"
  },
  "language_info": {
   "codemirror_mode": {
    "name": "ipython",
    "version": 3
   },
   "file_extension": ".py",
   "mimetype": "text/x-python",
   "name": "python",
   "nbconvert_exporter": "python",
   "pygments_lexer": "ipython3",
   "version": "3.11.7"
  }
 },
 "nbformat": 4,
 "nbformat_minor": 5
}
